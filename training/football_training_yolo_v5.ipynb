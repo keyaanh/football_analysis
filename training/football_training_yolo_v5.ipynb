{
 "cells": [
  {
   "cell_type": "code",
   "execution_count": 3,
   "metadata": {},
   "outputs": [
    {
     "name": "stdout",
     "output_type": "stream",
     "text": [
      "Requirement already satisfied: ultralytics in /Users/keyaanxh/Documents/CodeFolder/football_analysis/cv_env/lib/python3.9/site-packages (8.3.74)\n",
      "Requirement already satisfied: numpy<=2.1.1,>=1.23.0 in /Users/keyaanxh/Documents/CodeFolder/football_analysis/cv_env/lib/python3.9/site-packages (from ultralytics) (2.0.2)\n",
      "Requirement already satisfied: matplotlib>=3.3.0 in /Users/keyaanxh/Documents/CodeFolder/football_analysis/cv_env/lib/python3.9/site-packages (from ultralytics) (3.9.4)\n",
      "Requirement already satisfied: opencv-python>=4.6.0 in /Users/keyaanxh/Documents/CodeFolder/football_analysis/cv_env/lib/python3.9/site-packages (from ultralytics) (4.11.0.86)\n",
      "Requirement already satisfied: pillow>=7.1.2 in /Users/keyaanxh/Documents/CodeFolder/football_analysis/cv_env/lib/python3.9/site-packages (from ultralytics) (11.1.0)\n",
      "Requirement already satisfied: pyyaml>=5.3.1 in /Users/keyaanxh/Documents/CodeFolder/football_analysis/cv_env/lib/python3.9/site-packages (from ultralytics) (6.0.2)\n",
      "Requirement already satisfied: requests>=2.23.0 in /Users/keyaanxh/Documents/CodeFolder/football_analysis/cv_env/lib/python3.9/site-packages (from ultralytics) (2.32.3)\n",
      "Requirement already satisfied: scipy>=1.4.1 in /Users/keyaanxh/Documents/CodeFolder/football_analysis/cv_env/lib/python3.9/site-packages (from ultralytics) (1.13.1)\n",
      "Requirement already satisfied: torch>=1.8.0 in /Users/keyaanxh/Documents/CodeFolder/football_analysis/cv_env/lib/python3.9/site-packages (from ultralytics) (2.6.0)\n",
      "Requirement already satisfied: torchvision>=0.9.0 in /Users/keyaanxh/Documents/CodeFolder/football_analysis/cv_env/lib/python3.9/site-packages (from ultralytics) (0.21.0)\n",
      "Requirement already satisfied: tqdm>=4.64.0 in /Users/keyaanxh/Documents/CodeFolder/football_analysis/cv_env/lib/python3.9/site-packages (from ultralytics) (4.67.1)\n",
      "Requirement already satisfied: psutil in /Users/keyaanxh/Documents/CodeFolder/football_analysis/cv_env/lib/python3.9/site-packages (from ultralytics) (6.1.1)\n",
      "Requirement already satisfied: py-cpuinfo in /Users/keyaanxh/Documents/CodeFolder/football_analysis/cv_env/lib/python3.9/site-packages (from ultralytics) (9.0.0)\n",
      "Requirement already satisfied: pandas>=1.1.4 in /Users/keyaanxh/Documents/CodeFolder/football_analysis/cv_env/lib/python3.9/site-packages (from ultralytics) (2.2.3)\n",
      "Requirement already satisfied: seaborn>=0.11.0 in /Users/keyaanxh/Documents/CodeFolder/football_analysis/cv_env/lib/python3.9/site-packages (from ultralytics) (0.13.2)\n",
      "Requirement already satisfied: ultralytics-thop>=2.0.0 in /Users/keyaanxh/Documents/CodeFolder/football_analysis/cv_env/lib/python3.9/site-packages (from ultralytics) (2.0.14)\n",
      "Requirement already satisfied: contourpy>=1.0.1 in /Users/keyaanxh/Documents/CodeFolder/football_analysis/cv_env/lib/python3.9/site-packages (from matplotlib>=3.3.0->ultralytics) (1.3.0)\n",
      "Requirement already satisfied: cycler>=0.10 in /Users/keyaanxh/Documents/CodeFolder/football_analysis/cv_env/lib/python3.9/site-packages (from matplotlib>=3.3.0->ultralytics) (0.12.1)\n",
      "Requirement already satisfied: fonttools>=4.22.0 in /Users/keyaanxh/Documents/CodeFolder/football_analysis/cv_env/lib/python3.9/site-packages (from matplotlib>=3.3.0->ultralytics) (4.56.0)\n",
      "Requirement already satisfied: kiwisolver>=1.3.1 in /Users/keyaanxh/Documents/CodeFolder/football_analysis/cv_env/lib/python3.9/site-packages (from matplotlib>=3.3.0->ultralytics) (1.4.7)\n",
      "Requirement already satisfied: packaging>=20.0 in /Users/keyaanxh/Documents/CodeFolder/football_analysis/cv_env/lib/python3.9/site-packages (from matplotlib>=3.3.0->ultralytics) (24.2)\n",
      "Requirement already satisfied: pyparsing>=2.3.1 in /Users/keyaanxh/Documents/CodeFolder/football_analysis/cv_env/lib/python3.9/site-packages (from matplotlib>=3.3.0->ultralytics) (3.2.1)\n",
      "Requirement already satisfied: python-dateutil>=2.7 in /Users/keyaanxh/Documents/CodeFolder/football_analysis/cv_env/lib/python3.9/site-packages (from matplotlib>=3.3.0->ultralytics) (2.9.0.post0)\n",
      "Requirement already satisfied: importlib-resources>=3.2.0 in /Users/keyaanxh/Documents/CodeFolder/football_analysis/cv_env/lib/python3.9/site-packages (from matplotlib>=3.3.0->ultralytics) (6.5.2)\n",
      "Requirement already satisfied: pytz>=2020.1 in /Users/keyaanxh/Documents/CodeFolder/football_analysis/cv_env/lib/python3.9/site-packages (from pandas>=1.1.4->ultralytics) (2025.1)\n",
      "Requirement already satisfied: tzdata>=2022.7 in /Users/keyaanxh/Documents/CodeFolder/football_analysis/cv_env/lib/python3.9/site-packages (from pandas>=1.1.4->ultralytics) (2025.1)\n",
      "Requirement already satisfied: charset-normalizer<4,>=2 in /Users/keyaanxh/Documents/CodeFolder/football_analysis/cv_env/lib/python3.9/site-packages (from requests>=2.23.0->ultralytics) (3.4.1)\n",
      "Requirement already satisfied: idna<4,>=2.5 in /Users/keyaanxh/Documents/CodeFolder/football_analysis/cv_env/lib/python3.9/site-packages (from requests>=2.23.0->ultralytics) (3.10)\n",
      "Requirement already satisfied: urllib3<3,>=1.21.1 in /Users/keyaanxh/Documents/CodeFolder/football_analysis/cv_env/lib/python3.9/site-packages (from requests>=2.23.0->ultralytics) (2.3.0)\n",
      "Requirement already satisfied: certifi>=2017.4.17 in /Users/keyaanxh/Documents/CodeFolder/football_analysis/cv_env/lib/python3.9/site-packages (from requests>=2.23.0->ultralytics) (2025.1.31)\n",
      "Requirement already satisfied: filelock in /Users/keyaanxh/Documents/CodeFolder/football_analysis/cv_env/lib/python3.9/site-packages (from torch>=1.8.0->ultralytics) (3.17.0)\n",
      "Requirement already satisfied: typing-extensions>=4.10.0 in /Users/keyaanxh/Documents/CodeFolder/football_analysis/cv_env/lib/python3.9/site-packages (from torch>=1.8.0->ultralytics) (4.12.2)\n",
      "Requirement already satisfied: networkx in /Users/keyaanxh/Documents/CodeFolder/football_analysis/cv_env/lib/python3.9/site-packages (from torch>=1.8.0->ultralytics) (3.2.1)\n",
      "Requirement already satisfied: jinja2 in /Users/keyaanxh/Documents/CodeFolder/football_analysis/cv_env/lib/python3.9/site-packages (from torch>=1.8.0->ultralytics) (3.1.5)\n",
      "Requirement already satisfied: fsspec in /Users/keyaanxh/Documents/CodeFolder/football_analysis/cv_env/lib/python3.9/site-packages (from torch>=1.8.0->ultralytics) (2025.2.0)\n",
      "Requirement already satisfied: sympy==1.13.1 in /Users/keyaanxh/Documents/CodeFolder/football_analysis/cv_env/lib/python3.9/site-packages (from torch>=1.8.0->ultralytics) (1.13.1)\n",
      "Requirement already satisfied: mpmath<1.4,>=1.1.0 in /Users/keyaanxh/Documents/CodeFolder/football_analysis/cv_env/lib/python3.9/site-packages (from sympy==1.13.1->torch>=1.8.0->ultralytics) (1.3.0)\n",
      "Requirement already satisfied: zipp>=3.1.0 in /Users/keyaanxh/Documents/CodeFolder/football_analysis/cv_env/lib/python3.9/site-packages (from importlib-resources>=3.2.0->matplotlib>=3.3.0->ultralytics) (3.21.0)\n",
      "Requirement already satisfied: six>=1.5 in /Users/keyaanxh/Documents/CodeFolder/football_analysis/cv_env/lib/python3.9/site-packages (from python-dateutil>=2.7->matplotlib>=3.3.0->ultralytics) (1.17.0)\n",
      "Requirement already satisfied: MarkupSafe>=2.0 in /Users/keyaanxh/Documents/CodeFolder/football_analysis/cv_env/lib/python3.9/site-packages (from jinja2->torch>=1.8.0->ultralytics) (3.0.2)\n",
      "Collecting roboflow\n",
      "  Downloading roboflow-1.1.54-py3-none-any.whl.metadata (9.7 kB)\n",
      "Requirement already satisfied: certifi in /Users/keyaanxh/Documents/CodeFolder/football_analysis/cv_env/lib/python3.9/site-packages (from roboflow) (2025.1.31)\n",
      "Collecting idna==3.7 (from roboflow)\n",
      "  Downloading idna-3.7-py3-none-any.whl.metadata (9.9 kB)\n",
      "Requirement already satisfied: cycler in /Users/keyaanxh/Documents/CodeFolder/football_analysis/cv_env/lib/python3.9/site-packages (from roboflow) (0.12.1)\n",
      "Requirement already satisfied: kiwisolver>=1.3.1 in /Users/keyaanxh/Documents/CodeFolder/football_analysis/cv_env/lib/python3.9/site-packages (from roboflow) (1.4.7)\n",
      "Requirement already satisfied: matplotlib in /Users/keyaanxh/Documents/CodeFolder/football_analysis/cv_env/lib/python3.9/site-packages (from roboflow) (3.9.4)\n",
      "Requirement already satisfied: numpy>=1.18.5 in /Users/keyaanxh/Documents/CodeFolder/football_analysis/cv_env/lib/python3.9/site-packages (from roboflow) (2.0.2)\n",
      "Collecting opencv-python-headless==4.10.0.84 (from roboflow)\n",
      "  Downloading opencv_python_headless-4.10.0.84-cp37-abi3-macosx_11_0_arm64.whl.metadata (20 kB)\n",
      "Requirement already satisfied: Pillow>=7.1.2 in /Users/keyaanxh/Documents/CodeFolder/football_analysis/cv_env/lib/python3.9/site-packages (from roboflow) (11.1.0)\n",
      "Requirement already satisfied: python-dateutil in /Users/keyaanxh/Documents/CodeFolder/football_analysis/cv_env/lib/python3.9/site-packages (from roboflow) (2.9.0.post0)\n",
      "Collecting python-dotenv (from roboflow)\n",
      "  Using cached python_dotenv-1.0.1-py3-none-any.whl.metadata (23 kB)\n",
      "Requirement already satisfied: requests in /Users/keyaanxh/Documents/CodeFolder/football_analysis/cv_env/lib/python3.9/site-packages (from roboflow) (2.32.3)\n",
      "Requirement already satisfied: six in /Users/keyaanxh/Documents/CodeFolder/football_analysis/cv_env/lib/python3.9/site-packages (from roboflow) (1.17.0)\n",
      "Requirement already satisfied: urllib3>=1.26.6 in /Users/keyaanxh/Documents/CodeFolder/football_analysis/cv_env/lib/python3.9/site-packages (from roboflow) (2.3.0)\n",
      "Requirement already satisfied: tqdm>=4.41.0 in /Users/keyaanxh/Documents/CodeFolder/football_analysis/cv_env/lib/python3.9/site-packages (from roboflow) (4.67.1)\n",
      "Requirement already satisfied: PyYAML>=5.3.1 in /Users/keyaanxh/Documents/CodeFolder/football_analysis/cv_env/lib/python3.9/site-packages (from roboflow) (6.0.2)\n",
      "Collecting requests-toolbelt (from roboflow)\n",
      "  Using cached requests_toolbelt-1.0.0-py2.py3-none-any.whl.metadata (14 kB)\n",
      "Collecting filetype (from roboflow)\n",
      "  Downloading filetype-1.2.0-py2.py3-none-any.whl.metadata (6.5 kB)\n",
      "Requirement already satisfied: contourpy>=1.0.1 in /Users/keyaanxh/Documents/CodeFolder/football_analysis/cv_env/lib/python3.9/site-packages (from matplotlib->roboflow) (1.3.0)\n",
      "Requirement already satisfied: fonttools>=4.22.0 in /Users/keyaanxh/Documents/CodeFolder/football_analysis/cv_env/lib/python3.9/site-packages (from matplotlib->roboflow) (4.56.0)\n",
      "Requirement already satisfied: packaging>=20.0 in /Users/keyaanxh/Documents/CodeFolder/football_analysis/cv_env/lib/python3.9/site-packages (from matplotlib->roboflow) (24.2)\n",
      "Requirement already satisfied: pyparsing>=2.3.1 in /Users/keyaanxh/Documents/CodeFolder/football_analysis/cv_env/lib/python3.9/site-packages (from matplotlib->roboflow) (3.2.1)\n",
      "Requirement already satisfied: importlib-resources>=3.2.0 in /Users/keyaanxh/Documents/CodeFolder/football_analysis/cv_env/lib/python3.9/site-packages (from matplotlib->roboflow) (6.5.2)\n",
      "Requirement already satisfied: charset-normalizer<4,>=2 in /Users/keyaanxh/Documents/CodeFolder/football_analysis/cv_env/lib/python3.9/site-packages (from requests->roboflow) (3.4.1)\n",
      "Requirement already satisfied: zipp>=3.1.0 in /Users/keyaanxh/Documents/CodeFolder/football_analysis/cv_env/lib/python3.9/site-packages (from importlib-resources>=3.2.0->matplotlib->roboflow) (3.21.0)\n",
      "Downloading roboflow-1.1.54-py3-none-any.whl (83 kB)\n",
      "Downloading idna-3.7-py3-none-any.whl (66 kB)\n",
      "Downloading opencv_python_headless-4.10.0.84-cp37-abi3-macosx_11_0_arm64.whl (54.8 MB)\n",
      "\u001b[2K   \u001b[90m━━━━━━━━━━━━━━━━━━━━━━━━━━━━━━━━━━━━━━━━\u001b[0m \u001b[32m54.8/54.8 MB\u001b[0m \u001b[31m28.4 MB/s\u001b[0m eta \u001b[36m0:00:00\u001b[0m00:01\u001b[0m00:01\u001b[0m\n",
      "\u001b[?25hDownloading filetype-1.2.0-py2.py3-none-any.whl (19 kB)\n",
      "Using cached python_dotenv-1.0.1-py3-none-any.whl (19 kB)\n",
      "Using cached requests_toolbelt-1.0.0-py2.py3-none-any.whl (54 kB)\n",
      "Installing collected packages: filetype, python-dotenv, opencv-python-headless, idna, requests-toolbelt, roboflow\n",
      "  Attempting uninstall: idna\n",
      "    Found existing installation: idna 3.10\n",
      "    Uninstalling idna-3.10:\n",
      "      Successfully uninstalled idna-3.10\n",
      "Successfully installed filetype-1.2.0 idna-3.7 opencv-python-headless-4.10.0.84 python-dotenv-1.0.1 requests-toolbelt-1.0.0 roboflow-1.1.54\n"
     ]
    }
   ],
   "source": [
    "!pip install ultralytics\n",
    "!pip install roboflow"
   ]
  },
  {
   "cell_type": "code",
   "execution_count": null,
   "metadata": {},
   "outputs": [],
   "source": []
  },
  {
   "cell_type": "markdown",
   "metadata": {},
   "source": [
    "# Get Dataset"
   ]
  },
  {
   "cell_type": "code",
   "execution_count": 4,
   "metadata": {},
   "outputs": [
    {
     "name": "stderr",
     "output_type": "stream",
     "text": [
      "/Users/keyaanxh/Documents/CodeFolder/football_analysis/cv_env/lib/python3.9/site-packages/urllib3/__init__.py:35: NotOpenSSLWarning: urllib3 v2 only supports OpenSSL 1.1.1+, currently the 'ssl' module is compiled with 'LibreSSL 2.8.3'. See: https://github.com/urllib3/urllib3/issues/3020\n",
      "  warnings.warn(\n"
     ]
    },
    {
     "name": "stdout",
     "output_type": "stream",
     "text": [
      "loading Roboflow workspace...\n",
      "loading Roboflow project...\n"
     ]
    },
    {
     "name": "stderr",
     "output_type": "stream",
     "text": [
      "Downloading Dataset Version Zip in football-players-detection-1 to yolov5pytorch:: 100%|██████████| 148663/148663 [00:05<00:00, 29653.06it/s]"
     ]
    },
    {
     "name": "stdout",
     "output_type": "stream",
     "text": [
      "\n"
     ]
    },
    {
     "name": "stderr",
     "output_type": "stream",
     "text": [
      "\n",
      "Extracting Dataset Version Zip to football-players-detection-1 in yolov5pytorch:: 100%|██████████| 1338/1338 [00:00<00:00, 2895.81it/s]\n"
     ]
    }
   ],
   "source": [
    "\n",
    "from roboflow import Roboflow\n",
    "rf = Roboflow(api_key=\"ThTYbcO2bluVA1mc24wQ\")\n",
    "project = rf.workspace(\"roboflow-jvuqo\").project(\"football-players-detection-3zvbc\")\n",
    "version = project.version(1)\n",
    "dataset = version.download(\"yolov5\")\n",
    "                "
   ]
  },
  {
   "cell_type": "code",
   "execution_count": 7,
   "metadata": {},
   "outputs": [
    {
     "ename": "NameError",
     "evalue": "name 'dataset' is not defined",
     "output_type": "error",
     "traceback": [
      "\u001b[0;31m---------------------------------------------------------------------------\u001b[0m",
      "\u001b[0;31mNameError\u001b[0m                                 Traceback (most recent call last)",
      "Cell \u001b[0;32mIn[7], line 1\u001b[0m\n\u001b[0;32m----> 1\u001b[0m \u001b[43mdataset\u001b[49m\u001b[38;5;241m.\u001b[39mlocation\n",
      "\u001b[0;31mNameError\u001b[0m: name 'dataset' is not defined"
     ]
    }
   ],
   "source": [
    "dataset.location"
   ]
  },
  {
   "cell_type": "code",
   "execution_count": 11,
   "metadata": {},
   "outputs": [
    {
     "name": "stdout",
     "output_type": "stream",
     "text": [
      "\u001b[31mERROR: Could not find a version that satisfies the requirement shutil (from versions: none)\u001b[0m\u001b[31m\n",
      "\u001b[0m\u001b[31mERROR: No matching distribution found for shutil\u001b[0m\u001b[31m\n",
      "\u001b[0m"
     ]
    }
   ],
   "source": [
    "!pip install shutil"
   ]
  },
  {
   "cell_type": "code",
   "execution_count": 7,
   "metadata": {},
   "outputs": [
    {
     "name": "stdout",
     "output_type": "stream",
     "text": [
      "Collecting shuttle\n",
      "  Downloading shuttle-0.8.tar.gz (11 kB)\n",
      "  Installing build dependencies ... \u001b[?25ldone\n",
      "\u001b[?25h  Getting requirements to build wheel ... \u001b[?25ldone\n",
      "\u001b[?25h  Preparing metadata (pyproject.toml) ... \u001b[?25ldone\n",
      "\u001b[?25hCollecting babel (from shuttle)\n",
      "  Downloading babel-2.17.0-py3-none-any.whl.metadata (2.0 kB)\n",
      "Collecting deskapi (from shuttle)\n",
      "  Downloading deskapi-0.1.tar.gz (6.5 kB)\n",
      "  Installing build dependencies ... \u001b[?25ldone\n",
      "\u001b[?25h  Getting requirements to build wheel ... \u001b[?25ldone\n",
      "\u001b[?25h  Preparing metadata (pyproject.toml) ... \u001b[?25ldone\n",
      "\u001b[?25hCollecting txlib-too (from shuttle)\n",
      "  Downloading txlib_too-0.1.8-py2.py3-none-any.whl.metadata (4.3 kB)\n",
      "Requirement already satisfied: requests in /Users/keyaanxh/Documents/CodeFolder/football_analysis/cv_env/lib/python3.9/site-packages (from deskapi->shuttle) (2.32.3)\n",
      "Requirement already satisfied: six in /Users/keyaanxh/Documents/CodeFolder/football_analysis/cv_env/lib/python3.9/site-packages (from txlib-too->shuttle) (1.17.0)\n",
      "Requirement already satisfied: charset-normalizer<4,>=2 in /Users/keyaanxh/Documents/CodeFolder/football_analysis/cv_env/lib/python3.9/site-packages (from requests->deskapi->shuttle) (3.4.1)\n",
      "Requirement already satisfied: idna<4,>=2.5 in /Users/keyaanxh/Documents/CodeFolder/football_analysis/cv_env/lib/python3.9/site-packages (from requests->deskapi->shuttle) (3.7)\n",
      "Requirement already satisfied: urllib3<3,>=1.21.1 in /Users/keyaanxh/Documents/CodeFolder/football_analysis/cv_env/lib/python3.9/site-packages (from requests->deskapi->shuttle) (2.3.0)\n",
      "Requirement already satisfied: certifi>=2017.4.17 in /Users/keyaanxh/Documents/CodeFolder/football_analysis/cv_env/lib/python3.9/site-packages (from requests->deskapi->shuttle) (2025.1.31)\n",
      "Downloading babel-2.17.0-py3-none-any.whl (10.2 MB)\n",
      "\u001b[2K   \u001b[90m━━━━━━━━━━━━━━━━━━━━━━━━━━━━━━━━━━━━━━━━\u001b[0m \u001b[32m10.2/10.2 MB\u001b[0m \u001b[31m26.8 MB/s\u001b[0m eta \u001b[36m0:00:00\u001b[0m \u001b[36m0:00:01\u001b[0m\n",
      "\u001b[?25hDownloading txlib_too-0.1.8-py2.py3-none-any.whl (40 kB)\n",
      "Building wheels for collected packages: shuttle, deskapi\n",
      "  Building wheel for shuttle (pyproject.toml) ... \u001b[?25ldone\n",
      "\u001b[?25h  Created wheel for shuttle: filename=shuttle-0.8-py3-none-any.whl size=11753 sha256=7d93699f615a1727617bbdc7bfdbefdaf7c737177fbd90bba94bfff965208546\n",
      "  Stored in directory: /Users/keyaanxh/Library/Caches/pip/wheels/bc/bc/f3/879dcb79fedb14821a28212d6812b7a5882a97a04883b6b22a\n",
      "  Building wheel for deskapi (pyproject.toml) ... \u001b[?25ldone\n",
      "\u001b[?25h  Created wheel for deskapi: filename=deskapi-0.1-py3-none-any.whl size=7920 sha256=325a84485c91c5a5d2dec6b81a33bed912d779cf7883302fe74dd8bd6fc50b77\n",
      "  Stored in directory: /Users/keyaanxh/Library/Caches/pip/wheels/c9/e2/35/e85adf5334456206b3a01891df5fd14818e76d06c7d27136e9\n",
      "Successfully built shuttle deskapi\n",
      "Installing collected packages: babel, txlib-too, deskapi, shuttle\n",
      "Successfully installed babel-2.17.0 deskapi-0.1 shuttle-0.8 txlib-too-0.1.8\n"
     ]
    }
   ],
   "source": [
    "!pip install shuttle"
   ]
  },
  {
   "cell_type": "code",
   "execution_count": 12,
   "metadata": {},
   "outputs": [
    {
     "data": {
      "text/plain": [
       "'football-players-detection-1/football-players-detection-1/valid'"
      ]
     },
     "execution_count": 12,
     "metadata": {},
     "output_type": "execute_result"
    }
   ],
   "source": [
    "import shutil\n",
    "\n",
    "shutil.move('football-players-detection-1/train',\n",
    "            'football-players-detection-1/football-players-detection-1/train'\n",
    "            )\n",
    "\n",
    "shutil.move('football-players-detection-1/test',\n",
    "            'football-players-detection-1/football-players-detection-1/test'\n",
    "            )\n",
    "\n",
    "shutil.move('football-players-detection-1/valid',\n",
    "            'football-players-detection-1/football-players-detection-1/valid'\n",
    "            )"
   ]
  },
  {
   "cell_type": "markdown",
   "metadata": {},
   "source": [
    "# Training \n"
   ]
  },
  {
   "cell_type": "code",
   "execution_count": 10,
   "metadata": {},
   "outputs": [
    {
     "name": "stdout",
     "output_type": "stream",
     "text": [
      "/Users/keyaanxh/Documents/CodeFolder/football_analysis/cv_env/lib/python3.9/site-packages/urllib3/__init__.py:35: NotOpenSSLWarning: urllib3 v2 only supports OpenSSL 1.1.1+, currently the 'ssl' module is compiled with 'LibreSSL 2.8.3'. See: https://github.com/urllib3/urllib3/issues/3020\n",
      "  warnings.warn(\n",
      "WARNING ⚠️ 'mode' argument is missing. Valid modes are frozenset({'benchmark', 'export', 'train', 'predict', 'track', 'val'}). Using default 'mode=train'.\n",
      "PRO TIP 💡 Replace 'model=yolov5x.pt' with new 'model=yolov5xu.pt'.\n",
      "YOLOv5 'u' models are trained with https://github.com/ultralytics/ultralytics and feature improved performance vs standard YOLOv5 models trained with https://github.com/ultralytics/yolov5.\n",
      "\n",
      "New https://pypi.org/project/ultralytics/8.3.76 available 😃 Update with 'pip install -U ultralytics'\n",
      "Ultralytics 8.3.74 🚀 Python-3.9.6 torch-2.6.0 CPU (Apple M3)\n",
      "\u001b[34m\u001b[1mengine/trainer: \u001b[0mtask=detect, mode=train, model=yolov5x.pt, data={dataset.location}/data.yaml, epochs=100, time=None, patience=100, batch=16, imgsz=640, save=True, save_period=-1, cache=False, device=None, workers=8, project=None, name=train5, exist_ok=False, pretrained=True, optimizer=auto, verbose=True, seed=0, deterministic=True, single_cls=False, rect=False, cos_lr=False, close_mosaic=10, resume=False, amp=True, fraction=1.0, profile=False, freeze=None, multi_scale=False, overlap_mask=True, mask_ratio=4, dropout=0.0, val=True, split=val, save_json=False, save_hybrid=False, conf=None, iou=0.7, max_det=300, half=False, dnn=False, plots=True, source=None, vid_stride=1, stream_buffer=False, visualize=False, augment=False, agnostic_nms=False, classes=None, retina_masks=False, embed=None, show=False, save_frames=False, save_txt=False, save_conf=False, save_crop=False, show_labels=True, show_conf=True, show_boxes=True, line_width=None, format=torchscript, keras=False, optimize=False, int8=False, dynamic=False, simplify=True, opset=None, workspace=None, nms=False, lr0=0.01, lrf=0.01, momentum=0.937, weight_decay=0.0005, warmup_epochs=3.0, warmup_momentum=0.8, warmup_bias_lr=0.1, box=7.5, cls=0.5, dfl=1.5, pose=12.0, kobj=1.0, nbs=64, hsv_h=0.015, hsv_s=0.7, hsv_v=0.4, degrees=0.0, translate=0.1, scale=0.5, shear=0.0, perspective=0.0, flipud=0.0, fliplr=0.5, bgr=0.0, mosaic=1.0, mixup=0.0, copy_paste=0.0, copy_paste_mode=flip, auto_augment=randaugment, erasing=0.4, crop_fraction=1.0, cfg=None, tracker=botsort.yaml, save_dir=/Users/keyaanxh/Documents/CodeFolder/football_analysis/runs/detect/train5\n",
      "Traceback (most recent call last):\n",
      "  File \"/Users/keyaanxh/Documents/CodeFolder/football_analysis/cv_env/lib/python3.9/site-packages/ultralytics/engine/trainer.py\", line 564, in get_dataset\n",
      "    data = check_det_dataset(self.args.data)\n",
      "  File \"/Users/keyaanxh/Documents/CodeFolder/football_analysis/cv_env/lib/python3.9/site-packages/ultralytics/data/utils.py\", line 316, in check_det_dataset\n",
      "    file = check_file(dataset)\n",
      "  File \"/Users/keyaanxh/Documents/CodeFolder/football_analysis/cv_env/lib/python3.9/site-packages/ultralytics/utils/checks.py\", line 522, in check_file\n",
      "    raise FileNotFoundError(f\"'{file}' does not exist\")\n",
      "FileNotFoundError: '{dataset.location}/data.yaml' does not exist\n",
      "\n",
      "The above exception was the direct cause of the following exception:\n",
      "\n",
      "Traceback (most recent call last):\n",
      "  File \"/Users/keyaanxh/Documents/CodeFolder/football_analysis/cv_env/bin/yolo\", line 8, in <module>\n",
      "    sys.exit(entrypoint())\n",
      "  File \"/Users/keyaanxh/Documents/CodeFolder/football_analysis/cv_env/lib/python3.9/site-packages/ultralytics/cfg/__init__.py\", line 986, in entrypoint\n",
      "    getattr(model, mode)(**overrides)  # default args from model\n",
      "  File \"/Users/keyaanxh/Documents/CodeFolder/football_analysis/cv_env/lib/python3.9/site-packages/ultralytics/engine/model.py\", line 803, in train\n",
      "    self.trainer = (trainer or self._smart_load(\"trainer\"))(overrides=args, _callbacks=self.callbacks)\n",
      "  File \"/Users/keyaanxh/Documents/CodeFolder/football_analysis/cv_env/lib/python3.9/site-packages/ultralytics/engine/trainer.py\", line 134, in __init__\n",
      "    self.trainset, self.testset = self.get_dataset()\n",
      "  File \"/Users/keyaanxh/Documents/CodeFolder/football_analysis/cv_env/lib/python3.9/site-packages/ultralytics/engine/trainer.py\", line 568, in get_dataset\n",
      "    raise RuntimeError(emojis(f\"Dataset '{clean_url(self.args.data)}' error ❌ {e}\")) from e\n",
      "RuntimeError: Dataset '{dataset.location}/data.yaml' error ❌ '{dataset.location}/data.yaml' does not exist\n"
     ]
    }
   ],
   "source": [
    "!yolo task=detect model=train model=yolov5x.pt data={dataset.location}/data.yaml epochs=100 imgsz=640\n"
   ]
  },
  {
   "cell_type": "code",
   "execution_count": 6,
   "metadata": {},
   "outputs": [
    {
     "ename": "SyntaxError",
     "evalue": "invalid syntax (3261264042.py, line 1)",
     "output_type": "error",
     "traceback": [
      "\u001b[0;36m  Cell \u001b[0;32mIn[6], line 1\u001b[0;36m\u001b[0m\n\u001b[0;31m    ls /Users/keyaanxh/Documents/CodeFolder/football_analysis/dataset/\u001b[0m\n\u001b[0m                                                                      ^\u001b[0m\n\u001b[0;31mSyntaxError\u001b[0m\u001b[0;31m:\u001b[0m invalid syntax\n"
     ]
    }
   ],
   "source": [
    "ls /Users/keyaanxh/Documents/CodeFolder/football_analysis/dataset/\n",
    "\n"
   ]
  }
 ],
 "metadata": {
  "kernelspec": {
   "display_name": "Python 3",
   "language": "python",
   "name": "python3"
  },
  "language_info": {
   "codemirror_mode": {
    "name": "ipython",
    "version": 3
   },
   "file_extension": ".py",
   "mimetype": "text/x-python",
   "name": "python",
   "nbconvert_exporter": "python",
   "pygments_lexer": "ipython3",
   "version": "3.9.6"
  }
 },
 "nbformat": 4,
 "nbformat_minor": 2
}
